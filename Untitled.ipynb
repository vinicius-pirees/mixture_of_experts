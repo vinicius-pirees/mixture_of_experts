{
 "cells": [
  {
   "cell_type": "code",
   "execution_count": 1,
   "metadata": {
    "collapsed": true
   },
   "outputs": [],
   "source": [
    "import numpy as np\n",
    "import pandas\n",
    "import os\n",
    "from utils import softmax, dirac_delta, series_to_supervised\n",
    "import matplotlib.pyplot as plt"
   ]
  },
  {
   "cell_type": "code",
   "execution_count": 2,
   "metadata": {
    "collapsed": true
   },
   "outputs": [],
   "source": [
    "maxepocas = 10000\n",
    "alfa = 0.1"
   ]
  },
  {
   "cell_type": "code",
   "execution_count": 3,
   "metadata": {
    "collapsed": true
   },
   "outputs": [],
   "source": [
    "filename = os.path.realpath(os.path.join(os.getcwd(), os.path.dirname('treinamento.txt'))) + '/treinamento-1.txt'\n",
    "series = pandas.read_csv(filename,  header=None)"
   ]
  },
  {
   "cell_type": "code",
   "execution_count": 4,
   "metadata": {
    "collapsed": true
   },
   "outputs": [],
   "source": [
    "D = series_to_supervised(series, 5).values\n",
    "\n",
    "X = D[:,0:-1]\n",
    "Y = D[:,-1].reshape(X.shape[0],1)\n",
    "\n",
    "train_size = round(X.shape[0] * 0.7) # Dataset de treinamento terá 70% dos dados\n",
    "test_size = X.shape[0] - train_size\n",
    "Xtr = X[0:train_size,:]\n",
    "Xv = X[train_size:train_size+test_size,:]\n",
    "Ytr = Y[0:train_size,:]\n",
    "Yv = Y[train_size:train_size+test_size,:]\n"
   ]
  },
  {
   "cell_type": "code",
   "execution_count": 5,
   "metadata": {
    "collapsed": true
   },
   "outputs": [],
   "source": [
    "X1 = X[0:15]\n",
    "Y1 = X[]"
   ]
  },
  {
   "cell_type": "code",
   "execution_count": 8,
   "metadata": {
    "collapsed": true
   },
   "outputs": [],
   "source": [
    "def calc_saida(X,Y,W):\n",
    "    A = np.dot(X,W.T)\n",
    "    erro = A - Y\n",
    "    return A, erro"
   ]
  },
  {
   "cell_type": "code",
   "execution_count": 15,
   "metadata": {
    "collapsed": true
   },
   "outputs": [],
   "source": [
    "def grad(X,Y,W,N):\n",
    "    A,erro = calc_saida(X,Y,W)\n",
    "    dW = 1/N * np.dot(erro.T, X)\n",
    "    return dW"
   ]
  },
  {
   "cell_type": "code",
   "execution_count": 16,
   "metadata": {
    "collapsed": true
   },
   "outputs": [],
   "source": [
    "def perceptron(maxepocas,alfa,X,Y):\n",
    "    N = Y.shape[0]\n",
    "    ns = Y.shape[1]\n",
    "    ##add bias\n",
    "    X = np.concatenate((X, np.ones((N,1))), axis=1)\n",
    "\n",
    "    ne = X.shape[1]\n",
    "    W = np.random.rand(ns,ne)/5\n",
    "    \n",
    "    ##Calcula saida\n",
    "    A,erro = calc_saida(X,Y,W)\n",
    "    EQM = 1/N * np.sum(erro*erro)\n",
    "    \n",
    "    vet_erro = np.array([EQM])\n",
    "    new_vet = vet_erro\n",
    "    \n",
    "    nepocas=0\n",
    "    \n",
    "    while nepocas<maxepocas:\n",
    "        nepocas = nepocas + 1\n",
    "        dW=grad(X,Y,W,N);\n",
    "        W = W - alfa*dW\n",
    "        A,erro = calc_saida(X,Y,W)\n",
    "        EQM = 1/N * np.sum(erro*erro)\n",
    "        new_vet = np.append(new_vet,EQM)\n",
    "    \n",
    "    plt.plot(new_vet)\n",
    "    plt.ylabel('Error evolution')\n",
    "    plt.show()\n",
    "        \n",
    "    return W, new_vet"
   ]
  },
  {
   "cell_type": "code",
   "execution_count": 20,
   "metadata": {},
   "outputs": [
    {
     "data": {
      "image/png": "[encoded data removed]",
      "text/plain": [
       "<matplotlib.figure.Figure at 0x7f977b8956a0>"
      ]
     },
     "metadata": {},
     "output_type": "display_data"
    }
   ],
   "source": [
    "W, vet_erro = perceptron(maxepocas,alfa,Xtr,Ytr)"
   ]
  },
  {
   "cell_type": "code",
   "execution_count": 21,
   "metadata": {},
   "outputs": [
    {
     "data": {
      "text/plain": [
       "0.3807334153692775"
      ]
     },
     "execution_count": 21,
     "metadata": {},
     "output_type": "execute_result"
    }
   ],
   "source": [
    "vet_erro[-1]"
   ]
  },
  {
   "cell_type": "code",
   "execution_count": 22,
   "metadata": {
    "collapsed": true
   },
   "outputs": [],
   "source": [
    "##Teste\n",
    "\n",
    "Nv = Yv.shape[0]\n",
    "Xv = np.concatenate((Xv, np.ones((Nv,1))), axis=1)\n",
    "\n",
    "\n",
    "##Calcula saida para conjunto de teste\n",
    "Av,errov = calc_saida(Xv,Yv,W)\n",
    "EQMv = 1/Nv * np.sum(errov*errov)"
   ]
  },
  {
   "cell_type": "code",
   "execution_count": 23,
   "metadata": {},
   "outputs": [
    {
     "data": {
      "text/plain": [
       "0.2663717422202576"
      ]
     },
     "execution_count": 23,
     "metadata": {},
     "output_type": "execute_result"
    }
   ],
   "source": [
    "EQMv"
   ]
  },
  {
   "cell_type": "code",
   "execution_count": 25,
   "metadata": {},
   "outputs": [
    {
     "data": {
      "text/plain": [
       "array([[ 0.36946948],\n",
       "       [-0.31377767],\n",
       "       [ 0.37161601],\n",
       "       [-0.35194321],\n",
       "       [ 0.3866174 ],\n",
       "       [-0.37399041],\n",
       "       [ 0.44380711],\n",
       "       [-0.43544318],\n",
       "       [ 0.48775913],\n",
       "       [-0.24358115]])"
      ]
     },
     "execution_count": 25,
     "metadata": {},
     "output_type": "execute_result"
    }
   ],
   "source": [
    "Av[0:10]"
   ]
  },
  {
   "cell_type": "code",
   "execution_count": 26,
   "metadata": {},
   "outputs": [
    {
     "data": {
      "text/plain": [
       "array([[ 0.6019081],\n",
       "       [-0.6992859],\n",
       "       [ 0.699651 ],\n",
       "       [-0.6319539],\n",
       "       [ 0.8119542],\n",
       "       [-0.8726618],\n",
       "       [ 0.9397416],\n",
       "       [-0.8332047],\n",
       "       [-0.3884601],\n",
       "       [ 0.6981976]])"
      ]
     },
     "execution_count": 26,
     "metadata": {},
     "output_type": "execute_result"
    }
   ],
   "source": [
    "Yv[0:10]"
   ]
  },
  {
   "cell_type": "code",
   "execution_count": null,
   "metadata": {
    "collapsed": true
   },
   "outputs": [],
   "source": []
  }
 ],
 "metadata": {
  "kernelspec": {
   "display_name": "Python 3",
   "language": "python",
   "name": "python3"
  },
  "language_info": {
   "codemirror_mode": {
    "name": "ipython",
    "version": 3
   },
   "file_extension": ".py",
   "mimetype": "text/x-python",
   "name": "python",
   "nbconvert_exporter": "python",
   "pygments_lexer": "ipython3",
   "version": "3.6.3"
  }
 },
 "nbformat": 4,
 "nbformat_minor": 2
}
