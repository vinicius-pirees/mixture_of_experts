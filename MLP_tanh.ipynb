{
 "cells": [
  {
   "cell_type": "code",
   "execution_count": 1,
   "metadata": {
    "collapsed": true
   },
   "outputs": [],
   "source": [
    "import numpy as np\n",
    "import matplotlib.pyplot as plt\n",
    "import pandas\n",
    "import os"
   ]
  },
  {
   "cell_type": "code",
   "execution_count": 2,
   "metadata": {
    "collapsed": true
   },
   "outputs": [],
   "source": [
    "filename = os.path.realpath(os.path.join(os.getcwd(), os.path.dirname('treinamento.txt'))) + '/treinamento-1.txt'\n",
    "series = pandas.read_csv(filename,  header=None)"
   ]
  },
  {
   "cell_type": "code",
   "execution_count": 3,
   "metadata": {
    "collapsed": true
   },
   "outputs": [],
   "source": [
    "def series_to_supervised(df, n_lags, n_out=1, dropnan=True):\n",
    "    \"\"\"\n",
    "    Frame a time series as a supervised learning dataset.\n",
    "    Arguments:\n",
    "        data: Sequence of observations as a pandas dataframe.\n",
    "        n_lags: Number of lag observations as input (X).\n",
    "        n_out: Number of observations as output (y).\n",
    "        dropnan: Boolean whether or not to drop rows with NaN values.\n",
    "    Returns:\n",
    "        Pandas DataFrame of series framed for supervised learning.\n",
    "    \"\"\"\n",
    "    n_vars = df.shape[1]\n",
    "    cols, names = list(), list()\n",
    "    # input sequence (t-n, ... t-1)\n",
    "    for i in range(n_lags, 0, -1):\n",
    "        cols.append(df.shift(i))\n",
    "        names += [('var%d(t-%d)' % (j+1, i)) for j in range(n_vars)]\n",
    "    # forecast sequence (t, t+1, ... t+n)\n",
    "    for i in range(0, n_out):\n",
    "        cols.append(df.shift(-i))\n",
    "        if i == 0:\n",
    "            names += [('var%d(t)' % (j+1)) for j in range(n_vars)]\n",
    "        else:\n",
    "            names += [('var%d(t+%d)' % (j+1, i)) for j in range(n_vars)]\n",
    "    # put it all together\n",
    "    agg = pandas.concat(cols, axis=1)\n",
    "    agg.columns = names\n",
    "    # drop rows with NaN values\n",
    "    if dropnan:\n",
    "        agg.dropna(inplace=True)\n",
    "    return agg"
   ]
  },
  {
   "cell_type": "code",
   "execution_count": 4,
   "metadata": {
    "collapsed": true
   },
   "outputs": [],
   "source": [
    "D = series_to_supervised(series, 5).values\n",
    "\n",
    "X = D[:,0:-1]\n",
    "Y = D[:,-1].reshape(X.shape[0],1)\n",
    "\n",
    "train_size = round(X.shape[0] * 0.7)\n",
    "test_size = X.shape[0] - train_size\n",
    "Xtr = X[0:train_size,:]\n",
    "Xv = X[train_size:train_size+test_size,:]\n",
    "Ytr = Y[0:train_size,:]\n",
    "Yv = Y[train_size:train_size+test_size,:]"
   ]
  },
  {
   "cell_type": "code",
   "execution_count": 5,
   "metadata": {
    "collapsed": true
   },
   "outputs": [],
   "source": [
    "hidden_units=7"
   ]
  },
  {
   "cell_type": "code",
   "execution_count": 6,
   "metadata": {
    "collapsed": true
   },
   "outputs": [],
   "source": [
    "def sigmoid(Z):\n",
    "    return 1 / (1+np.exp(-Z))"
   ]
  },
  {
   "cell_type": "code",
   "execution_count": 7,
   "metadata": {
    "collapsed": true
   },
   "outputs": [],
   "source": [
    "def calc_saida(X,Y,W1,W2,N):\n",
    "    Z1 = np.dot(X,W1.T)\n",
    "    ##tanh\n",
    "    A1 = (np.exp(Z1) - np.exp(-Z1)) / (np.exp(Z1)+np.exp(-Z1))\n",
    "    ##add bias\n",
    "    A1 = np.concatenate((A1, np.ones((N,1))), axis=1)\n",
    "    \n",
    "    Z2 = np.dot(A1,W2.T)\n",
    "    A2 = Z2\n",
    "    \n",
    "    erro = A2 - Y\n",
    "    \n",
    "    return A1,A2,erro"
   ]
  },
  {
   "cell_type": "code",
   "execution_count": 8,
   "metadata": {
    "collapsed": true
   },
   "outputs": [],
   "source": [
    "def grad(X,Y,W1,W2,N):\n",
    "    A1,A2,erro = calc_saida(X,Y,W1,W2,N)\n",
    "\n",
    "    nh = W2.shape[1] - 1\n",
    "    ns = Y.shape[1]\n",
    "    \n",
    "    dC_dAj = erro\n",
    "    dAj_dZi = 1\n",
    "\n",
    "    dC_Z2 =  dC_dAj * dAj_dZi\n",
    "    \n",
    "    dW2 = 1/N * np.dot(dC_Z2.T , A1)\n",
    "    dW1 = 1/N * np.dot((np.dot(dC_Z2, W2[:,:nh]) * (1-(A1[:,:nh] * A1[:,:nh]))).T , X)\n",
    "    return dW2, dW1"
   ]
  },
  {
   "cell_type": "code",
   "execution_count": 9,
   "metadata": {
    "collapsed": true
   },
   "outputs": [],
   "source": [
    "def perceptron(X,Y,alfa,nepocasmax,hidden_units):\n",
    "    \n",
    "    N = Y.shape[0]\n",
    "    ns = Y.shape[1]\n",
    "    nh = hidden_units\n",
    "\n",
    "    ##add bias\n",
    "    X = np.concatenate((X, np.ones((N,1))), axis=1)\n",
    "\n",
    "    ne = X.shape[1]\n",
    "    W1 = np.random.rand(nh,ne)/5\n",
    "    W2 = np.random.rand(ns,nh+1)/5\n",
    "\n",
    "\n",
    "    ##Calcula saida\n",
    "    A1,A2,erro = calc_saida(X,Y,W1,W2,N)\n",
    "    EQM = 1/N * np.sum(erro*erro)\n",
    "    \n",
    "\n",
    "    vet_erro = np.array([EQM])\n",
    "    new_vet = vet_erro \n",
    "    nepocas=0\n",
    "    \n",
    "    while EQM>1e-4 and nepocas<nepocasmax:\n",
    "        nepocas = nepocas + 1;\n",
    "        dW2,dW1=grad(X,Y,W1,W2,N)\n",
    "    \n",
    "        W1 = W1 - (alfa * dW1)\n",
    "        W2 = W2 - (alfa * dW2)\n",
    "\n",
    "        A1,A2,erro = calc_saida(X,Y,W1,W2,N)\n",
    "        EQM = 1/N * np.sum(erro*erro)\n",
    "        new_vet = np.append(new_vet,EQM)\n",
    "\n",
    "                \n",
    "                \n",
    "    plt.plot(new_vet)\n",
    "    plt.ylabel('Error evolution')\n",
    "    plt.show()\n",
    "\n",
    "    return W1, W2, new_vet"
   ]
  },
  {
   "cell_type": "code",
   "execution_count": 10,
   "metadata": {},
   "outputs": [
    {
     "data": {
      "image/png": "[encoded data removed]",
      "text/plain": [
       "<matplotlib.figure.Figure at 0x7fc438eb73c8>"
      ]
     },
     "metadata": {},
     "output_type": "display_data"
    }
   ],
   "source": [
    "W1,W2,vet_erro=perceptron(Xtr,Ytr,0.1,50000,hidden_units)"
   ]
  },
  {
   "cell_type": "code",
   "execution_count": 11,
   "metadata": {},
   "outputs": [
    {
     "data": {
      "text/plain": [
       "0.049424421239511816"
      ]
     },
     "execution_count": 11,
     "metadata": {},
     "output_type": "execute_result"
    }
   ],
   "source": [
    "vet_erro[-1]"
   ]
  },
  {
   "cell_type": "code",
   "execution_count": 12,
   "metadata": {
    "collapsed": true
   },
   "outputs": [],
   "source": [
    "Nv = Yv.shape[0]\n",
    "\n",
    "##add bias\n",
    "Xv = np.concatenate((Xv, np.ones((Nv,1))), axis=1)\n",
    "\n",
    "##Calcula saida\n",
    "A1v,A2v,errov = calc_saida(Xv,Yv,W1,W2,Nv)\n",
    "EQMv = 1/Nv * np.sum(errov*errov)"
   ]
  },
  {
   "cell_type": "code",
   "execution_count": 13,
   "metadata": {},
   "outputs": [
    {
     "data": {
      "text/plain": [
       "0.08176708348916041"
      ]
     },
     "execution_count": 13,
     "metadata": {},
     "output_type": "execute_result"
    }
   ],
   "source": [
    "EQMv"
   ]
  },
  {
   "cell_type": "code",
   "execution_count": null,
   "metadata": {
    "collapsed": true
   },
   "outputs": [],
   "source": []
  }
 ],
 "metadata": {
  "kernelspec": {
   "display_name": "Python 3",
   "language": "python",
   "name": "python3"
  },
  "language_info": {
   "codemirror_mode": {
    "name": "ipython",
    "version": 3
   },
   "file_extension": ".py",
   "mimetype": "text/x-python",
   "name": "python",
   "nbconvert_exporter": "python",
   "pygments_lexer": "ipython3",
   "version": "3.6.3"
  }
 },
 "nbformat": 4,
 "nbformat_minor": 2
}
